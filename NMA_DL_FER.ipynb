{
  "nbformat": 4,
  "nbformat_minor": 0,
  "metadata": {
    "colab": {
      "provenance": [],
      "gpuType": "T4",
      "include_colab_link": true
    },
    "kernelspec": {
      "name": "python3",
      "display_name": "Python 3"
    },
    "language_info": {
      "name": "python"
    },
    "accelerator": "GPU"
  },
  "cells": [
    {
      "cell_type": "markdown",
      "metadata": {
        "id": "view-in-github",
        "colab_type": "text"
      },
      "source": [
        "<a href=\"https://colab.research.google.com/github/alaeimo/NMA_DL_FER/blob/master/NMA_DL_FER.ipynb\" target=\"_parent\"><img src=\"https://colab.research.google.com/assets/colab-badge.svg\" alt=\"Open In Colab\"/></a>"
      ]
    },
    {
      "cell_type": "code",
      "source": [
        "!pip install torchinfo"
      ],
      "metadata": {
        "id": "GUswGh6PaSQf"
      },
      "execution_count": null,
      "outputs": []
    },
    {
      "cell_type": "code",
      "execution_count": 3,
      "metadata": {
        "id": "xSIbMFTZ-eGp"
      },
      "outputs": [],
      "source": [
        "#Imports\n",
        "import os\n",
        "import pandas as pd\n",
        "import matplotlib.pyplot as plt\n",
        "import numpy as np\n",
        "import torch\n",
        "import torch.optim as optim\n",
        "import torchvision.transforms as transforms\n",
        "from torch.utils.data import Dataset, DataLoader\n",
        "from torch.autograd import Variable\n",
        "from torch.utils.data import DataLoader\n",
        "from torchvision import models\n",
        "from torchinfo import summary\n",
        "from tqdm import tqdm"
      ]
    },
    {
      "cell_type": "code",
      "source": [
        "from google.colab import drive\n",
        "drive.mount('/content/drive/')"
      ],
      "metadata": {
        "id": "zO02iVGLM9lz"
      },
      "execution_count": null,
      "outputs": []
    },
    {
      "cell_type": "code",
      "source": [
        "# @title Set random seed\n",
        "\n",
        "# @markdown Executing `set_seed(seed=seed)` you are setting the seed\n",
        "\n",
        "# for DL its critical to set the random seed so that students can have a\n",
        "# baseline to compare their results to expected results.\n",
        "# Read more here: https://pytorch.org/docs/stable/notes/randomness.html\n",
        "\n",
        "# Call `set_seed` function in the exercises to ensure reproducibility.\n",
        "import random\n",
        "import torch\n",
        "\n",
        "def set_seed(seed=None, seed_torch=True):\n",
        "  if seed is None:\n",
        "    seed = np.random.choice(2 ** 32)\n",
        "  random.seed(seed)\n",
        "  np.random.seed(seed)\n",
        "  if seed_torch:\n",
        "    torch.manual_seed(seed)\n",
        "    torch.cuda.manual_seed_all(seed)\n",
        "    torch.cuda.manual_seed(seed)\n",
        "    torch.backends.cudnn.benchmark = False\n",
        "    torch.backends.cudnn.deterministic = True\n",
        "\n",
        "  print(f'Random seed {seed} has been set.')\n",
        "\n",
        "# In case that `DataLoader` is used\n",
        "def seed_worker(worker_id):\n",
        "  worker_seed = torch.initial_seed() % 2**32\n",
        "  np.random.seed(worker_seed)\n",
        "  random.seed(worker_seed)\n"
      ],
      "metadata": {
        "cellView": "form",
        "id": "r3Dz8cD6PsH0"
      },
      "execution_count": 5,
      "outputs": []
    },
    {
      "cell_type": "code",
      "source": [
        "# @title Set device (GPU or CPU)\n",
        "\n",
        "# inform the user if the notebook uses GPU or CPU.\n",
        "\n",
        "def set_device():\n",
        "  device = \"cuda\" if torch.cuda.is_available() else \"cpu\"\n",
        "  if device != \"cuda\":\n",
        "    print(\"WARNING: For this notebook to perform best, \"\n",
        "        \"if possible, in the menu under `Runtime` -> \"\n",
        "        \"`Change runtime type.`  select `GPU` \")\n",
        "  else:\n",
        "    print(\"GPU is enabled in this notebook.\")\n",
        "\n",
        "  return device"
      ],
      "metadata": {
        "cellView": "form",
        "id": "-LRoXzmlPz-d"
      },
      "execution_count": 6,
      "outputs": []
    },
    {
      "cell_type": "code",
      "source": [
        "set_seed(seed=2021)\n",
        "device = set_device()\n"
      ],
      "metadata": {
        "id": "EYBJrLLiP2yr"
      },
      "execution_count": null,
      "outputs": []
    },
    {
      "cell_type": "markdown",
      "source": [
        "Load and Prepare Dataset"
      ],
      "metadata": {
        "id": "8NBdwlnmsva0"
      }
    },
    {
      "cell_type": "code",
      "source": [
        "emotions = {0:\"Angry\", 1:\"Disgust\", 2:\"Fear\", 3:\"Happy\", 4:\"Sad\", 5:\"Surprise\", 6:\"Neutral\"}\n",
        "emotions_inv = {v:k for k,v in emotions.items()}"
      ],
      "metadata": {
        "id": "GaMmpz6gORsz"
      },
      "execution_count": 8,
      "outputs": []
    },
    {
      "cell_type": "code",
      "source": [
        "class FER2013(Dataset):\n",
        "    def __init__(self, csv_file:str, split:str='Training', transforms:transforms.Compose=None):\n",
        "      \"\"\"\n",
        "      Arguments:\n",
        "          csv_file (string): Path to the FER2013 icml_face_data.csv file with annotations.\n",
        "          split = 'Training' for train , 'PublicTest' for validation, 'PrivateTest' for test\n",
        "          transform (callable, optional): Optional transform to be applied on a sample.\n",
        "      \"\"\"\n",
        "      self._main_df = pd.read_csv(csv_file)\n",
        "      self.split = split\n",
        "      self.transforms = transforms\n",
        "      self._samples = self._load()\n",
        "\n",
        "    def __len__(self):\n",
        "        return len(self._samples)\n",
        "\n",
        "    def __getitem__(self, idx):\n",
        "        img, label = self._samples[idx]\n",
        "        img = torch.as_tensor(img).float()\n",
        "        if self.transforms:\n",
        "            img = self.transforms(img)\n",
        "        return img, label\n",
        "\n",
        "    def _load(self):\n",
        "      df = self._main_df\n",
        "      df.columns = df.columns.str.replace(' ', '')\n",
        "      df = df[df['Usage'] == self.split].copy()\n",
        "      samples = []\n",
        "      for index, row in df.iterrows():\n",
        "          label = row['emotion']\n",
        "          img_arr = row['pixels'].split(' ')\n",
        "          img_arr = np.array(img_arr).astype(int)\n",
        "          img_arr = img_arr.reshape(48,48)\n",
        "          samples.append((img_arr, label))\n",
        "      samples = np.array(samples, dtype=object)\n",
        "      return samples"
      ],
      "metadata": {
        "id": "xs4udahwuqdf"
      },
      "execution_count": 9,
      "outputs": []
    },
    {
      "cell_type": "code",
      "source": [
        "# Define the batch size\n",
        "batch_size = 128\n",
        "torchvision_transforms = True  # True/False if you want use torchvision augmentations\n",
        "dataset_csv_file = \"./drive/MyDrive/Colab Notebooks/datasets/fer2013/icml_face_data.csv\"\n",
        "\n",
        "\n",
        "# Define the transformations to apply\n",
        "transforms_train = transforms.Compose([transforms.ToPILImage()])\n",
        "if torchvision_transforms:\n",
        "    transforms_train.transforms.extend([\n",
        "                transforms.RandomRotation(10),\n",
        "                transforms.RandomHorizontalFlip(),\n",
        "                transforms.RandomCrop(size=48, padding=4)])\n",
        "\n",
        "transforms_train.transforms.extend([\n",
        "                transforms.Grayscale(num_output_channels=3),\n",
        "                transforms.ToTensor()])\n",
        "\n",
        "transforms_validation = transforms.Compose([transforms.ToPILImage(),\n",
        "                                            transforms.Grayscale(num_output_channels=3),\n",
        "                                            transforms.ToTensor()])\n",
        "\n",
        "transforms_test = transforms.Compose([transforms.ToPILImage(),\n",
        "                                      transforms.Grayscale(num_output_channels=3),\n",
        "                                      transforms.ToTensor()])\n",
        "# Create the dataset\n",
        "train_dataset = FER2013(csv_file=dataset_csv_file, split='Training', transforms=transforms_train)\n",
        "validation_dataset = FER2013(csv_file=dataset_csv_file, split='PublicTest', transforms=transforms_validation)\n",
        "test_dataset = FER2013(csv_file=dataset_csv_file, split='PrivateTest', transforms=transforms_test)\n",
        "\n",
        "# Create the data loader\n",
        "train_dataloader = DataLoader(train_dataset, batch_size=batch_size, shuffle=False)\n",
        "validation_dataloader = DataLoader(validation_dataset, batch_size=batch_size, shuffle=False)\n",
        "test_dataloader = DataLoader(test_dataset, batch_size=batch_size, shuffle=False)"
      ],
      "metadata": {
        "id": "TOPKCbIjuqgY"
      },
      "execution_count": null,
      "outputs": []
    },
    {
      "cell_type": "code",
      "source": [
        "def show_dataloader_batch(dataloader):\n",
        "  batch = next(iter(dataloader))\n",
        "  # Extract the images and labels from the batch\n",
        "  images, labels = batch\n",
        "  images, labels = images[:20], labels[:20]\n",
        "  # fig = plt.figure(figsize=(10, 10))\n",
        "  for i in range(len(images)):\n",
        "      ax = plt.subplot(4,len(images)//4, i+ 1)\n",
        "      image = images[i]\n",
        "      if len(image.shape) == 3:\n",
        "        image = image.permute(1,2,0)\n",
        "      ax.imshow(image, cmap=\"gray\")\n",
        "      ax.set_title(f\"{emotions[labels[i].item()]}\")\n",
        "      ax.axis('off')\n",
        "  plt.tight_layout()\n",
        "  plt.show()\n",
        "\n",
        "def show_dataset_batch(dataset, batch_size=20):\n",
        "  for i in range(batch_size):\n",
        "      image, label = dataset._samples[i]\n",
        "      ax = plt.subplot(4, batch_size//4, i+ 1)\n",
        "      if len(image.shape) == 3:\n",
        "        image = image.permute(1,2,0)\n",
        "      ax.imshow(image, cmap=\"gray\")\n",
        "      ax.set_title(f\"{emotions[label]}\")\n",
        "      ax.axis('off')\n",
        "  plt.tight_layout()\n",
        "  plt.show()"
      ],
      "metadata": {
        "id": "yoPJx6fcJzCC"
      },
      "execution_count": null,
      "outputs": []
    },
    {
      "cell_type": "code",
      "source": [
        "print(\"Train Dataset Samples\")\n",
        "show_dataset_batch(train_dataset)\n",
        "print(\"Transformed Train Dataset Samples\")\n",
        "show_dataloader_batch(test_dataloader)"
      ],
      "metadata": {
        "id": "-xvpmj5OOjmT"
      },
      "execution_count": null,
      "outputs": []
    },
    {
      "cell_type": "code",
      "source": [
        "#Preprocessing\n",
        "# Face Alignment"
      ],
      "metadata": {
        "id": "xS_sROsF-oyr"
      },
      "execution_count": 13,
      "outputs": []
    },
    {
      "cell_type": "markdown",
      "source": [
        "Architecture 01: ResNet"
      ],
      "metadata": {
        "id": "pdJZ3MocTOt7"
      }
    },
    {
      "cell_type": "code",
      "source": [
        "# Define Resnet model and download pre-trained weights\n",
        "resnet_model = models.resnet18(weights=\"IMAGENET1K_V1\")\n",
        "\n",
        "# Freeze Layers\n",
        "for param in resnet_model.parameters():\n",
        "  param.requires_grad = True\n",
        "\n",
        "# Display model summary\n",
        "# summary(resnet_model, input_size=(1, 3, 48, 48))"
      ],
      "metadata": {
        "id": "LGyhw-Q-_l2l"
      },
      "execution_count": null,
      "outputs": []
    },
    {
      "cell_type": "code",
      "source": [
        "# Change the last Layer:\n",
        "resnet_model.fc = torch.nn.Linear(in_features=512, out_features=7)\n",
        "# Display model summary\n",
        "# summary(resnet_model, input_size=(1, 3, 48, 48))"
      ],
      "metadata": {
        "id": "hdqziqLZTvow"
      },
      "execution_count": 15,
      "outputs": []
    },
    {
      "cell_type": "markdown",
      "source": [
        "Set up training"
      ],
      "metadata": {
        "id": "jqjqnL5yVyuf"
      }
    },
    {
      "cell_type": "code",
      "source": [
        "base_learning_rate = 1e-4\n",
        "best_acc = 0"
      ],
      "metadata": {
        "id": "6QxNdfNzWz6j"
      },
      "execution_count": 17,
      "outputs": []
    },
    {
      "cell_type": "code",
      "source": [
        "def plot_history(history):\n",
        "  # Plotting\n",
        "  plt.figure(figsize=(10,3))\n",
        "  ax = plt.subplot(1,2,1)\n",
        "  ax.plot(history.train_loss)\n",
        "  ax.plot(history.validation_loss)\n",
        "  ax.plot(history.test_loss)\n",
        "  ax.set_title(\"Loss\")\n",
        "  ax.legend([\"train_loss\", \"val_loss\", \"test_loss\"])\n",
        "  ax = plt.subplot(1,2,2)\n",
        "  ax.plot(history.train_acc)\n",
        "  ax.plot(history.validation_acc)\n",
        "  ax.plot(history.test_acc)\n",
        "  ax.set_ylim(0,100)\n",
        "  ax.set_title(\"Accuracy\")\n",
        "  ax.legend([\"train_acc\", \"val_acc\", \"test_acc\"])\n",
        "  plt.tight_layout()\n",
        "  plt.show()"
      ],
      "metadata": {
        "id": "jGDFfHRv3-0Z"
      },
      "execution_count": 18,
      "outputs": []
    },
    {
      "cell_type": "code",
      "source": [
        "\n",
        "# checkpoint & adjust_learning_rate\n",
        "def checkpoint(model, acc, epoch, out_model_name):\n",
        "  # Save checkpoint.\n",
        "  print('Saving..')\n",
        "  state = {\n",
        "      'state_dict': model.state_dict(),\n",
        "      'acc': acc,\n",
        "      'epoch': epoch,\n",
        "      'rng_state': torch.get_rng_state()\n",
        "  }\n",
        "  if not os.path.isdir('checkpoint'):\n",
        "      os.mkdir('checkpoint')\n",
        "  torch.save(state, f'./checkpoint/{out_model_name}.t7')\n",
        "\n",
        "def adjust_learning_rate(optimizer, epoch):\n",
        "  \"\"\"decrease the learning rate at 100 and 150 epoch\"\"\"\n",
        "  lr = base_learning_rate\n",
        "  if epoch <= 9 and lr > 0.1:\n",
        "    # warm-up training for large minibatch\n",
        "    lr = 0.1 + (base_learning_rate - 0.1) * epoch / 10.\n",
        "  if epoch >= 100:\n",
        "    lr /= 10\n",
        "  if epoch >= 150:\n",
        "    lr /= 10\n",
        "  for param_group in optimizer.param_groups:\n",
        "    param_group['lr'] = lr"
      ],
      "metadata": {
        "id": "EoBesiyAWxB6"
      },
      "execution_count": 19,
      "outputs": []
    },
    {
      "cell_type": "code",
      "source": [
        "class History:\n",
        "  def __init__(self):\n",
        "    self.train_acc = []\n",
        "    self.validation_acc = []\n",
        "    self.test_acc = []\n",
        "    self.train_loss = []\n",
        "    self.validation_loss = []\n",
        "    self.test_loss = []\n",
        "\n",
        "  def append_results(self, loss, acc, split):\n",
        "    if split == \"train\":\n",
        "      self.train_loss.append(loss)\n",
        "      self.train_acc.append(acc)\n",
        "    if split == \"validation\":\n",
        "      self.validation_loss.append(loss)\n",
        "      self.validation_acc.append(acc)\n",
        "    if split == \"test\":\n",
        "      self.test_loss.append(loss)\n",
        "      self.test_acc.append(acc)"
      ],
      "metadata": {
        "id": "QZYAnRw1pKUt"
      },
      "execution_count": 20,
      "outputs": []
    },
    {
      "cell_type": "markdown",
      "source": [
        " 1- Set loss function and optimizer"
      ],
      "metadata": {
        "id": "P6n18C9aV1Yq"
      }
    },
    {
      "cell_type": "code",
      "source": [
        "# Optimizer and criterion\n",
        "criterion = torch.nn.CrossEntropyLoss()\n",
        "optimizer = optim.Adam(resnet_model.parameters(), lr=base_learning_rate)"
      ],
      "metadata": {
        "id": "dDQaGeImVZ42"
      },
      "execution_count": 21,
      "outputs": []
    },
    {
      "cell_type": "markdown",
      "source": [
        " Training & Test functions"
      ],
      "metadata": {
        "id": "OwGIni7UWJQz"
      }
    },
    {
      "cell_type": "code",
      "source": [
        "def train(net, epoch, use_cuda=True, pbar=None):\n",
        "  net.train()\n",
        "  train_loss = 0\n",
        "  correct = 0\n",
        "  total = 0\n",
        "  # pbar = tqdm(enumerate(train_dataloader))\n",
        "  for batch_idx, (inputs, targets) in enumerate(train_dataloader):\n",
        "    if use_cuda:\n",
        "      inputs, targets = inputs.cuda(), targets.cuda()\n",
        "\n",
        "    optimizer.zero_grad()\n",
        "    inputs, targets = Variable(inputs), Variable(targets)\n",
        "    outputs = net(inputs)\n",
        "    loss = criterion(outputs, targets)\n",
        "    loss.backward()\n",
        "    optimizer.step()\n",
        "\n",
        "    train_loss += loss.item()\n",
        "    _, predicted = torch.max(outputs.data, 1)\n",
        "    total += targets.size(0)\n",
        "    correct += predicted.eq(targets.data).cpu().sum()\n",
        "    result = f\"Epoch:{epoch} Training-Batch: {batch_idx}/{len(train_dataloader)}| Loss: {(train_loss/(batch_idx+1)):0.3f} | Acc: {(100.*correct/total):0.3f}\"\n",
        "    pbar.set_description(result)\n",
        "  return (train_loss/batch_idx, 100.*correct/total)\n",
        "\n",
        "def test(net, epoch, out_model_name, use_cuda=True, pbar=None):\n",
        "  global best_acc\n",
        "  net.eval()\n",
        "  test_loss, correct, total = 0, 0, 0\n",
        "  with torch.no_grad():\n",
        "    for batch_idx, (inputs, targets) in enumerate(validation_dataloader):\n",
        "      if use_cuda:\n",
        "        inputs, targets = inputs.cuda(), targets.cuda()\n",
        "\n",
        "      outputs = net(inputs)\n",
        "      loss = criterion(outputs, targets)\n",
        "\n",
        "      test_loss += loss.item()\n",
        "      _, predicted = torch.max(outputs.data, 1)\n",
        "      total += targets.size(0)\n",
        "      correct += predicted.eq(targets.data).cpu().sum()\n",
        "      result = f\"Epoch:{epoch} Testing-Batch: {batch_idx}/{len(validation_dataloader)}| Loss: {(test_loss/(batch_idx+1)):0.3f} | Acc: {(100.*correct/total):0.3f}\"\n",
        "      pbar.set_description(result)\n",
        "\n",
        "  # # Save checkpoint.\n",
        "  # acc = 100.*correct/total\n",
        "  # if acc > best_acc:\n",
        "  #   best_acc = acc\n",
        "  #   checkpoint(net, acc, epoch, out_model_name)\n",
        "  return (test_loss/batch_idx, 100.*correct/total)"
      ],
      "metadata": {
        "id": "dA0sjZXhWJpD"
      },
      "execution_count": 22,
      "outputs": []
    },
    {
      "cell_type": "markdown",
      "source": [
        "Train the model"
      ],
      "metadata": {
        "id": "MOAH3PdlXAeW"
      }
    },
    {
      "cell_type": "code",
      "source": [
        "start_epoch = 0\n",
        "max_epochs = 40\n",
        "use_cuda = True\n",
        "out_model_name = \"resnet18\"\n",
        "history = History()\n",
        "pbar = tqdm(range(start_epoch, max_epochs))\n",
        "resnet_model.to(device)\n",
        "for epoch in pbar:\n",
        "  # adjust_learning_rate(optimizer, epoch)\n",
        "  train_loss, train_acc = train(resnet_model, epoch, use_cuda=use_cuda, pbar=pbar)\n",
        "  history.append_results(train_loss, train_acc, \"train\")\n",
        "  test_loss, test_acc = test(resnet_model, epoch, out_model_name, use_cuda=use_cuda, pbar=pbar)\n",
        "  history.append_results(test_loss, test_acc, \"validation\")\n",
        "  print(f'  Epoch:{epoch + 1} | Train acc: {train_acc} | Validation acc: {test_acc}')"
      ],
      "metadata": {
        "id": "ZplRtJ6oW_vN"
      },
      "execution_count": null,
      "outputs": []
    },
    {
      "cell_type": "code",
      "source": [
        "plot_history(history) #lr=1e-4"
      ],
      "metadata": {
        "id": "wKdqwXM6eUfd"
      },
      "execution_count": null,
      "outputs": []
    },
    {
      "cell_type": "code",
      "source": [
        "# plot_history(history) #lr=1e-5"
      ],
      "metadata": {
        "colab": {
          "base_uri": "https://localhost:8080/",
          "height": 307
        },
        "id": "98izSwtUcuRr",
        "outputId": "9158ebbf-6cf4-4859-907f-c0a5956b3f6b"
      },
      "execution_count": 156,
      "outputs": [
        {
          "output_type": "display_data",
          "data": {
            "text/plain": [
              "<Figure size 1000x300 with 2 Axes>"
            ],
            "image/png": "[encoded data removed]"
          },
          "metadata": {}
        }
      ]
    },
    {
      "cell_type": "code",
      "source": [
        "# plot_history(history) #lr=1e-3"
      ],
      "metadata": {
        "colab": {
          "base_uri": "https://localhost:8080/",
          "height": 307
        },
        "id": "PUBFzVg38rlw",
        "outputId": "4f1e0930-ee30-4bb1-d32d-71426e3ff9e0"
      },
      "execution_count": 149,
      "outputs": [
        {
          "output_type": "display_data",
          "data": {
            "text/plain": [
              "<Figure size 1000x300 with 2 Axes>"
            ],
            "image/png": "[encoded data removed]"
          },
          "metadata": {}
        }
      ]
    },
    {
      "cell_type": "code",
      "source": [],
      "metadata": {
        "id": "UGd7oExo2BrD"
      },
      "execution_count": null,
      "outputs": []
    }
  ]
}